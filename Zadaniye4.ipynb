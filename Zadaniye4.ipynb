{
 "cells": [
  {
   "cell_type": "code",
   "execution_count": 11,
   "metadata": {},
   "outputs": [],
   "source": [
    "documents = [\n",
    "    {'type': 'passport', 'number': '2207 876234', 'name': 'Василий Гупкин'},\n",
    "    {'type': 'invoice', 'number': '11-2', 'name': 'Геннадий Покемонов'},\n",
    "    {'type': 'insurance', 'number': '10006', 'name': 'Аристарх Павлов'}\n",
    "]\n",
    "\n",
    "directories = {\n",
    "    '1': ['2207 876234', '11-2'],\n",
    "    '2': ['10006'],\n",
    "    '3': []\n",
    "}"
   ]
  },
  {
   "cell_type": "code",
   "execution_count": 12,
   "metadata": {},
   "outputs": [],
   "source": [
    "#p – people – команда, которая спросит номер документа и выведет имя человека, которому он принадлежит\n",
    "def p_people(namep):\n",
    "    dic = []\n",
    "    user_input = input('Введите номер документа ')\n",
    "    for people in namep:\n",
    "        if user_input == people['number']:\n",
    "            dic.append(people)\n",
    "            a = print('Имя владельца документа:', dic[0]['name'])\n",
    "            return(a)\n",
    "    if dic == []:\n",
    "        print('Документ не найден')"
   ]
  },
  {
   "cell_type": "code",
   "execution_count": 13,
   "metadata": {},
   "outputs": [
    {
     "name": "stdout",
     "output_type": "stream",
     "text": [
      "Введите номер документа 11-2\n",
      "Имя владельца документа:  Геннадий Покемонов\n"
     ]
    }
   ],
   "source": [
    "p_people (documents)"
   ]
  },
  {
   "cell_type": "code",
   "execution_count": 16,
   "metadata": {},
   "outputs": [],
   "source": [
    "#s – shelf – команда, которая спросит номер документа и выведет номер полки, на которой он находится\n",
    "\n",
    "def sshelf(names):\n",
    "    user_input = input('Введите номер документа ')\n",
    "    flag = 0\n",
    "    for a,b in names.items():\n",
    "        if user_input in b:\n",
    "            print('Номер полки: ', a)\n",
    "            flag = 1\n",
    "            return \n",
    "    if flag == 0:\n",
    "        print('Документ не найден')"
   ]
  },
  {
   "cell_type": "code",
   "execution_count": 17,
   "metadata": {},
   "outputs": [
    {
     "name": "stdout",
     "output_type": "stream",
     "text": [
      "Введите номер документа 1\n",
      "Документ не найден\n"
     ]
    }
   ],
   "source": [
    "sshelf(directories)"
   ]
  },
  {
   "cell_type": "code",
   "execution_count": 18,
   "metadata": {},
   "outputs": [],
   "source": [
    "#l – list – команда, которая выведет список всех документов в формате\n",
    "#passport \"2207 876234\" \"Василий Гупкин\"\n",
    "def l_list(namel):\n",
    "    for a in namel:\n",
    "        x = a ['type']\n",
    "        y = a ['number']\n",
    "        z = a ['name']\n",
    "        print(x, y, z)\n",
    "    return "
   ]
  },
  {
   "cell_type": "code",
   "execution_count": 19,
   "metadata": {},
   "outputs": [
    {
     "name": "stdout",
     "output_type": "stream",
     "text": [
      "passport 2207 876234 Василий Гупкин\n",
      "invoice 11-2 Геннадий Покемонов\n",
      "insurance 10006 Аристарх Павлов\n"
     ]
    }
   ],
   "source": [
    "l_list (documents)"
   ]
  },
  {
   "cell_type": "code",
   "execution_count": null,
   "metadata": {},
   "outputs": [],
   "source": [
    "#as – add shelf – команда, которая спросит номер новой полки и добавит ее в перечень. Предусмотрите случай, когда пользователь добавляет полку, которая уже существует."
   ]
  },
  {
   "cell_type": "code",
   "execution_count": 20,
   "metadata": {},
   "outputs": [],
   "source": [
    "def asadd(namea):\n",
    "    user_input = input('Введите номер новой полки ')\n",
    "    user_input2 = input('Введите значения для новой полки')\n",
    "    for key in list(namea.keys()):\n",
    "        if user_input not in key:\n",
    "            namea [user_input] = [user_input2]\n",
    "        else:\n",
    "            print('Полка уже существует')\n",
    "            return \n",
    "    print(namea)"
   ]
  },
  {
   "cell_type": "code",
   "execution_count": 21,
   "metadata": {},
   "outputs": [
    {
     "name": "stdout",
     "output_type": "stream",
     "text": [
      "Введите номер новой полки 5\n",
      "Введите значения для новой полки122\n",
      "{'1': ['2207 876234', '11-2'], '2': ['10006'], '3': [], '5': ['122']}\n"
     ]
    }
   ],
   "source": [
    "asadd (directories)"
   ]
  },
  {
   "cell_type": "code",
   "execution_count": null,
   "metadata": {},
   "outputs": [],
   "source": [
    "#d – delete – команда, которая спросит номер документа и удалит его из каталога и из перечня полок. Предусмотрите сценарий, когда пользователь вводит несуществующий документ;"
   ]
  },
  {
   "cell_type": "code",
   "execution_count": 2,
   "metadata": {},
   "outputs": [],
   "source": [
    "def deled(name1, name2):\n",
    "    user_input = input('Введите номер документа')\n",
    "    f = 0\n",
    "    for i in range(len(name1)):\n",
    "        if name1[i]['number'] in user_input:\n",
    "            del name1[i]\n",
    "            print(name1)\n",
    "            break\n",
    "    for a,b in list(name2.items()):\n",
    "        if user_input in b:\n",
    "            name2[a].remove(user_input)\n",
    "            f=1\n",
    "            print(name2)\n",
    "    if f == 0:\n",
    "        print ('Документ не существует')\n",
    "    return "
   ]
  },
  {
   "cell_type": "code",
   "execution_count": 3,
   "metadata": {},
   "outputs": [
    {
     "name": "stdout",
     "output_type": "stream",
     "text": [
      "Введите номер документа11-2\n",
      "[{'type': 'passport', 'number': '2207 876234', 'name': 'Василий Гупкин'}, {'type': 'insurance', 'number': '10006', 'name': 'Аристарх Павлов'}]\n",
      "{'1': ['2207 876234'], '2': ['10006'], '3': []}\n"
     ]
    }
   ],
   "source": [
    "deled (documents, directories)"
   ]
  },
  {
   "cell_type": "code",
   "execution_count": 4,
   "metadata": {},
   "outputs": [],
   "source": [
    "#m – move – команда, которая спросит номер документа и целевую полку и переместит его с текущей полки на целевую. Корректно обработайте кейсы, когда пользователь пытается переместить несуществующий документ или переместить документ на несуществующую полку;"
   ]
  },
  {
   "cell_type": "code",
   "execution_count": 23,
   "metadata": {},
   "outputs": [],
   "source": [
    "def move (namem):\n",
    "    user_input = input('Введите номер докумета ')\n",
    "    user_input2 = input('Введите значения для полки ')\n",
    "    flag = 0\n",
    "    for a,b in list (namem.items()):\n",
    "        if user_input in b:\n",
    "            if user_input2 in list (namem.keys()):\n",
    "                namem[a].remove(user_input)\n",
    "                x = list(namem [user_input2])\n",
    "                x.append (user_input)\n",
    "                namem [user_input2] = x\n",
    "                flag = 1\n",
    "                print (namem)\n",
    "            else: print ('Полка не существует')\n",
    "    if flag ==0:\n",
    "        print ('Документ не существует')     "
   ]
  },
  {
   "cell_type": "code",
   "execution_count": 24,
   "metadata": {},
   "outputs": [
    {
     "name": "stdout",
     "output_type": "stream",
     "text": [
      "Введите номер докумета 11-2\n",
      "Введите значения для полки 2\n",
      "{'1': ['2207 876234'], '2': ['10006', '11-2'], '3': []}\n"
     ]
    }
   ],
   "source": [
    "move(directories)"
   ]
  },
  {
   "cell_type": "code",
   "execution_count": 15,
   "metadata": {},
   "outputs": [],
   "source": [
    "#a – add – команда, которая добавит новый документ в каталог и в перечень полок, спросив его номер, тип, имя владельца и номер полки, на котором он будет храниться. Корректно обработайте ситуацию, когда пользователь будет пытаться добавить документ на несуществующую полку.\n"
   ]
  },
  {
   "cell_type": "code",
   "execution_count": 65,
   "metadata": {},
   "outputs": [],
   "source": [
    "def add (name1,name2):\n",
    "    user_input = input('Введите номер полки ')\n",
    "    user_input2 = input('Введите номер документа ')\n",
    "    user_input3 = input('Тип документа ')\n",
    "    user_input4 = input('Имя владельца документа ')\n",
    "    final_dict =  dict ({'type': user_input3 , 'number': user_input2 , 'name': user_input4})\n",
    "    name1.append (final_dict)\n",
    "    print(name1)\n",
    "    flag = 0\n",
    "    for key in list (name2.keys()):\n",
    "        if user_input in key:\n",
    "            x = list(name2 [user_input])\n",
    "            x.append (user_input2)\n",
    "            name2 [user_input] = x\n",
    "            flag = 1\n",
    "            print (name2)\n",
    "    if flag ==0:\n",
    "        print ('Полка не существует')\n",
    "    return"
   ]
  },
  {
   "cell_type": "code",
   "execution_count": 66,
   "metadata": {},
   "outputs": [
    {
     "name": "stdout",
     "output_type": "stream",
     "text": [
      "Введите номер полки 1\n",
      "Введите номер документа 3333\n",
      "Тип документа f;g;g;g\n",
      "Имя владельца документа qedfwe\n",
      "[{'type': 'passport', 'number': '2207 876234', 'name': 'Василий Гупкин'}, {'type': 'invoice', 'number': '11-2', 'name': 'Геннадий Покемонов'}, {'type': 'insurance', 'number': '10006', 'name': 'Аристарх Павлов'}, {'type': 'f;g;g;g', 'number': '3333', 'name': 'qedfwe'}]\n",
      "{'1': ['2207 876234', '11-2', '3333'], '2': ['10006'], '3': []}\n"
     ]
    }
   ],
   "source": [
    "add (documents, directories)"
   ]
  }
 ],
 "metadata": {
  "kernelspec": {
   "display_name": "Python 3",
   "language": "python",
   "name": "python3"
  },
  "language_info": {
   "codemirror_mode": {
    "name": "ipython",
    "version": 3
   },
   "file_extension": ".py",
   "mimetype": "text/x-python",
   "name": "python",
   "nbconvert_exporter": "python",
   "pygments_lexer": "ipython3",
   "version": "3.7.6"
  }
 },
 "nbformat": 4,
 "nbformat_minor": 4
}
