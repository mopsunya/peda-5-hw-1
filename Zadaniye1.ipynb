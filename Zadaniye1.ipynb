{
 "cells": [
  {
   "cell_type": "markdown",
   "metadata": {},
   "source": [
    "Задание 1"
   ]
  },
  {
   "cell_type": "code",
   "execution_count": 1,
   "metadata": {},
   "outputs": [
    {
     "data": {
      "text/plain": [
       "True"
      ]
     },
     "execution_count": 1,
     "metadata": {},
     "output_type": "execute_result"
    }
   ],
   "source": [
    "long_phrase = 'Насколько проще было бы писать программы, если бы не заказчики'\n",
    "short_phrase = '640Кб должно хватить для любых задач. Билл Гейтс (по легенде)'\n",
    "len (long_phrase) > len (short_phrase) "
   ]
  },
  {
   "cell_type": "markdown",
   "metadata": {},
   "source": [
    "Задание 2"
   ]
  },
  {
   "cell_type": "code",
   "execution_count": null,
   "metadata": {},
   "outputs": [],
   "source": [
    "user_input = int(input('Введите значение объема файла в байтах'))\n",
    "v =  user_input / (2**20)\n",
    "c = round (v,2)\n",
    "print('Объем файла равен',c,'Mb')"
   ]
  },
  {
   "cell_type": "markdown",
   "metadata": {},
   "source": [
    "Задание 3"
   ]
  },
  {
   "cell_type": "code",
   "execution_count": 8,
   "metadata": {},
   "outputs": [
    {
     "name": "stdout",
     "output_type": "stream",
     "text": [
      "Введите дату рождения 4\n",
      "Введите месяц рождения май\n",
      "телец\n"
     ]
    }
   ],
   "source": [
    "d = int(input('Введите дату рождения '))\n",
    "m = input ('Введите месяц рождения ')\n",
    "if (m =='январь' and d <= 20 and d >=1) or (m =='декабрь' and d >= 22 and d <=31):\n",
    "    print ('козерог')\n",
    "elif (m =='январь' and d <= 31 and d >= 21) or (m =='февраль' and d >= 1 and d <=18):\n",
    "    print ('водолей')\n",
    "elif (m =='февраль' and d <= 29 and d >= 19) or (m =='март' and d >= 1 and d <=20):\n",
    "    print ('рыбы')\n",
    "elif (m =='март' and d <= 31  and d >= 21) or (m =='апрель' and d >= 1 and d <=19):\n",
    "    print ('овен')\n",
    "elif (m =='апрель' and d <= 30  and d >= 20) or (m =='май' and d >= 1 and d <=20):\n",
    "    print ('телец')\n",
    "elif (m =='май' and d <= 31  and d >= 21) or (m =='июнь' and d >= 1 and d <=21):\n",
    "    print ('близнецы')\n",
    "elif (m =='июнь' and d <= 30  and d >= 22) or (m =='июль' and d >= 1 and d <=22):\n",
    "    print ('рак')\n",
    "elif (m =='июль' and d <= 31  and d >= 23) or (m =='август' and d >= 1 and d <=22):\n",
    "    print ('лев')\n",
    "elif (m =='август' and d <= 31  and d >= 23) or (m =='сентябрь' and d >= 1 and d <=22):\n",
    "    print ('дева')\n",
    "elif (m =='сентябрь' and d <= 30  and d >= 23) or (m =='октябрь' and d >= 1 and d <=23):\n",
    "    print ('весы')\n",
    "elif (m =='октябрь' and d <= 31  and d >= 24) or (m =='ноябрь' and d >= 1 and d <=22):\n",
    "    print ('скорпион')\n",
    "elif (m =='ноябрь' and d <= 30  and d >= 23) or (m =='декабрь' and d >= 1 and d <=21):\n",
    "    print ('стрелец')"
   ]
  },
  {
   "cell_type": "markdown",
   "metadata": {},
   "source": [
    "Задание 4"
   ]
  },
  {
   "cell_type": "code",
   "execution_count": 10,
   "metadata": {},
   "outputs": [
    {
     "name": "stdout",
     "output_type": "stream",
     "text": [
      "Введите заработанную плату в месяц:10000\n",
      "Введите сколько процентов уходит на ипотеку:30\n",
      "Введите сколько процентов уходит на жизнь:50\n",
      "Введите количество премий за год: 2\n",
      "На ипотеку было потрачено  36000 руб.\n",
      "Было накоплено  34000 руб.\n"
     ]
    }
   ],
   "source": [
    "a = int(input('Введите заработанную плату в месяц:'))\n",
    "b = int(input('Введите сколько процентов уходит на ипотеку:'))\n",
    "c = int(input('Введите сколько процентов уходит на жизнь:'))\n",
    "d = int(input('Введите количество премий за год: '))\n",
    "ipoteka = int((a*b/100)*12)\n",
    "zhizn = int(a*12 - ipoteka - (a*c/100)*12 + a*d/2)\n",
    "print ('На ипотеку было потрачено ',ipoteka, 'руб.')  \n",
    "print ('Было накоплено ',zhizn, 'руб.')"
   ]
  },
  {
   "cell_type": "code",
   "execution_count": null,
   "metadata": {},
   "outputs": [],
   "source": []
  }
 ],
 "metadata": {
  "kernelspec": {
   "display_name": "Python 3",
   "language": "python",
   "name": "python3"
  }
 },
 "nbformat": 4,
 "nbformat_minor": 4
}
