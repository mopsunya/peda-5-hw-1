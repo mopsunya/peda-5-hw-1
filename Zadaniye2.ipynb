{
 "cells": [
  {
   "cell_type": "markdown",
   "metadata": {},
   "source": [
    "Задача №1"
   ]
  },
  {
   "cell_type": "code",
   "execution_count": 14,
   "metadata": {},
   "outputs": [
    {
     "name": "stdout",
     "output_type": "stream",
     "text": [
      "Введите слово alina\n",
      "i\n"
     ]
    }
   ],
   "source": [
    "x = input ('Введите слово ')\n",
    "z = len (x)\n",
    "y = len (x) % 2\n",
    "if y == 0:\n",
    "    a = int (z/2-1)\n",
    "    b = int(z/2+1)\n",
    "    print (x[a:b])\n",
    "elif y > 0:\n",
    "    a = int(z/2)\n",
    "    print (x[a])"
   ]
  },
  {
   "cell_type": "markdown",
   "metadata": {},
   "source": [
    "Задача №2"
   ]
  },
  {
   "cell_type": "code",
   "execution_count": 7,
   "metadata": {},
   "outputs": [
    {
     "name": "stdout",
     "output_type": "stream",
     "text": [
      "[('Alex', 'Emma'), ('Arthur', 'Kate'), ('John', 'Kira'), ('Peter', 'Liza'), ('Richard', 'Trisha')]\n"
     ]
    }
   ],
   "source": [
    "boys = ['Peter', 'Alex', 'John', 'Arthur', 'Richard']\n",
    "girls = ['Kate', 'Liza', 'Kira', 'Emma', 'Trisha']\n",
    "if (len (boys) > len (girls)) or (len (boys) < len (girls)):\n",
    "    print ('Неравное количество человек, продолжить (да/нет)?')\n",
    "    answer = input ('Введите слово ')\n",
    "    if answer == 'да':\n",
    "        boys_1 = sorted (boys)\n",
    "        girls_1 = sorted (girls)\n",
    "        dating = zip(boys_1,girls_1)\n",
    "        print (list(dating))\n",
    "    elif answer == 'нет':\n",
    "        print ('Измените количество человек')\n",
    "elif len (boys) == len (girls):\n",
    "        boys_1 = sorted (boys)\n",
    "        girls_1 = sorted (girls)\n",
    "        dating = zip(boys_1,girls_1)\n",
    "        print (list(dating))"
   ]
  },
  {
   "cell_type": "markdown",
   "metadata": {},
   "source": [
    "Задача №3"
   ]
  },
  {
   "cell_type": "code",
   "execution_count": 20,
   "metadata": {},
   "outputs": [
    {
     "name": "stdout",
     "output_type": "stream",
     "text": [
      "Средненедельная температура в Thailand составляет: 39 градусов Цельсия\n",
      "Средненедельная температура в Germany составляет: 28 градусов Цельсия\n",
      "Средненедельная температура в Russia составляет: 18 градусов Цельсия\n",
      "Средненедельная температура в Poland составляет: 27 градусов Цельсия\n"
     ]
    }
   ],
   "source": [
    "countries_temperature = [\n",
    " ['Thailand', [75.2, 77, 78.8, 73.4, 68, 75.2, 77]],\n",
    " ['Germany', [57.2, 55.4, 59, 59, 53.6, 55.4, 57.2]],\n",
    " ['Russia', [35.6, 37.4, 39.2, 41, 42.8, 39.2, 35.6]],\n",
    " ['Poland', [50, 50, 53.6, 57.2, 55.4, 55.4, 51.8]],\n",
    "]\n",
    "for countries in countries_temperature:\n",
    "    for temperature in countries [1]:\n",
    "        temperature = int(((sum (countries[1]) - 32)*5/9)/len(countries[1]))\n",
    "        print (f'Средненедельная температура в {countries [0]} составляет: {temperature} градусов Цельсия')\n",
    "        break"
   ]
  },
  {
   "cell_type": "markdown",
   "metadata": {},
   "source": [
    "Задача №4"
   ]
  },
  {
   "cell_type": "code",
   "execution_count": 42,
   "metadata": {},
   "outputs": [],
   "source": [
    "stream = [\n",
    "    '2018-01-01,user1,3',\n",
    "    '2018-01-07,user1,4',\n",
    "    '2018-03-29,user1,1',\n",
    "    '2018-04-04,user1,13',\n",
    "    '2018-01-05,user2,7',\n",
    "    '2018-06-14,user3,4',\n",
    "    '2018-07-02,user3,10',\n",
    "    '2018-03-21,user4,19',\n",
    "    '2018-03-22,user4,4',\n",
    "    '2018-04-22,user4,8',\n",
    "    '2018-05-03,user4,9',\n",
    "    '2018-05-11,user4,11',\n",
    "]"
   ]
  },
  {
   "cell_type": "code",
   "execution_count": 40,
   "metadata": {},
   "outputs": [
    {
     "name": "stdout",
     "output_type": "stream",
     "text": [
      "23.25\n"
     ]
    }
   ],
   "source": [
    "b_stream = list()\n",
    "for el in stream:\n",
    "    b_stream.append (el.split(','))\n",
    "    users = [users[1] for users in b_stream]\n",
    "items = set (users)\n",
    "print ((sum ([int(x[2]) for x in b_stream]))/len(items))"
   ]
  },
  {
   "cell_type": "markdown",
   "metadata": {},
   "source": [
    "Задача №5"
   ]
  },
  {
   "cell_type": "code",
   "execution_count": 10,
   "metadata": {},
   "outputs": [
    {
     "name": "stdout",
     "output_type": "stream",
     "text": [
      "Введите дату 2018-01-03\n",
      "Введите компанию google\n",
      "1843\n"
     ]
    }
   ],
   "source": [
    "stats = [\n",
    "    ['2018-01-01', 'google', 25],\n",
    "    ['2018-01-01', 'yandex', 65],\n",
    "    ['2018-01-01', 'market', 89],\n",
    "    ['2018-01-02', 'google', 574],\n",
    "    ['2018-01-02', 'yandex', 249],\n",
    "    ['2018-01-02', 'market', 994],\n",
    "    ['2018-01-03', 'google', 1843],\n",
    "    ['2018-01-03', 'yandex', 1327],\n",
    "    ['2018-01-03', 'market', 1764],\n",
    "]\n",
    "day = input ('Введите дату: ')\n",
    "company = input ('Введите компанию: ')\n",
    "for a_status in stats:\n",
    "    if ((day in a_status [0]) and (company in a_status [1])):\n",
    "        print (a_status[2])"
   ]
  },
  {
   "cell_type": "markdown",
   "metadata": {},
   "source": [
    "Задача №6"
   ]
  },
  {
   "cell_type": "code",
   "execution_count": 7,
   "metadata": {},
   "outputs": [
    {
     "name": "stdout",
     "output_type": "stream",
     "text": [
      "Сумма по диагонали равна: 103\n"
     ]
    }
   ],
   "source": [
    "data = [\n",
    "    [13, 25, 23, 34],\n",
    "    [45, 32, 44, 47],\n",
    "    [12, 33, 23, 95],\n",
    "    [13, 53, 34, 35]\n",
    "]\n",
    "a = int(0)\n",
    "sum_ = 0\n",
    "b = len(data)\n",
    "while a != b:\n",
    "    sum_ += data [a][a]\n",
    "    a = a + 1\n",
    "print ('Сумма по диагонали равна:',sum_)"
   ]
  }
 ],
 "metadata": {
  "kernelspec": {
   "display_name": "Python 3",
   "language": "python",
   "name": "python3"
  },
  "language_info": {
   "codemirror_mode": {
    "name": "ipython",
    "version": 3
   },
   "file_extension": ".py",
   "mimetype": "text/x-python",
   "name": "python",
   "nbconvert_exporter": "python",
   "pygments_lexer": "ipython3",
   "version": "3.7.6"
  }
 },
 "nbformat": 4,
 "nbformat_minor": 4
}
